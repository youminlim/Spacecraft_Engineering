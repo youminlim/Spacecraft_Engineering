{
 "cells": [
  {
   "cell_type": "markdown",
   "metadata": {},
   "source": [
    "Import External libraries"
   ]
  },
  {
   "cell_type": "code",
   "execution_count": 4,
   "metadata": {},
   "outputs": [],
   "source": [
    "import numpy as np\n",
    "from numpy import sin\n",
    "from numpy import cos\n",
    "import matplotlib.pyplot as plt \n",
    "import keplers"
   ]
  },
  {
   "cell_type": "markdown",
   "metadata": {},
   "source": [
    "Define Global Constants"
   ]
  },
  {
   "cell_type": "code",
   "execution_count": 5,
   "metadata": {},
   "outputs": [],
   "source": [
    "#%% Define program constants\n",
    "# chosen astral body : Earth\n",
    "G = 6.67e-11          # universal gravitational constant - m³/kg*s²\n",
    "M = 5.972e24          # earth mass - kg\n",
    "r_earth = 6379        # earth radius - km\n",
    "mu = G * M * 10 ** -9 # earth gravitaional parameter - km³/s²\n",
    "\n",
    "# initialise spacecraft parameters\n",
    "BC = 0.00000229         # ballistic coefficient\n",
    "m = 10000                # spacecraft mass - kg\n",
    "altitude0 = 100          # spacecraft initial altitude - km\n",
    "[e, a, i, RAAN, omega, M0] = [0, altitude0 + r_earth, 0, 0, 0, 0]\n",
    "M0 = np.deg2rad(M0)"
   ]
  },
  {
   "cell_type": "markdown",
   "metadata": {},
   "source": [
    "Functions"
   ]
  },
  {
   "cell_type": "code",
   "execution_count": 9,
   "metadata": {},
   "outputs": [],
   "source": [
    "def atmos(r):\n",
    "    # A function to find the density of air at various altitudes\n",
    "    \n",
    "    # re-scaling\n",
    "    altitude = (r - r_earth) * 10 ** 3\n",
    "    \n",
    "    # define constants for atmosphere model\n",
    "    p0 = 101325 # sea level atmospheric pressure Pa\n",
    "    T0 = 288.15 # sea level atmospheric temperature K\n",
    "    g = 9.80665 # earth surface gravitational acceleration m/s²\n",
    "    R = 8.31446 # ideal gas constant J/mol*K\n",
    "    M = 0.02897 # molar mass of dry air kg/mol\n",
    "    \n",
    "    # altitude upper limit levels\n",
    "    troposphere = 11 * 10 ** 3\n",
    "    tropopause = 20 * 10 ** 3\n",
    "    stratosphere1 = 32 * 10 ** 3\n",
    "    stratosphere2 = 47 * 10 ** 3\n",
    "    stratopause = 51 * 10 ** 3\n",
    "    mesosphere = 71 * 10 ** 3\n",
    "    mesopause = 120 * 10 ** 3\n",
    "    \n",
    "    if altitude <= troposphere:\n",
    "        # constants within the troposphere\n",
    "        L = 0.0065  # temperature lapse rate K/m\n",
    "    \n",
    "        # governing equations\n",
    "        T = T0 - (L * altitude)\n",
    "        p = p0 * (1 - ((L*altitude)/T0)) ** (g*M/R*L)\n",
    "        rho = (p * M)  / (R * T)\n",
    "        \n",
    "    elif troposphere < altitude <= tropopause :\n",
    "        rho = (((altitude - troposphere)/(tropopause - troposphere))*(0.08803 - 0.36391)) + 0.36391\n",
    "\n",
    "    elif tropopause < altitude <= stratosphere1 :\n",
    "        rho = (((altitude - tropopause)/(stratosphere1 - tropopause))*(0.01322 - 0.08803)) + 0.08803\n",
    "        \n",
    "    elif stratosphere1 < altitude <= stratosphere2 :\n",
    "        rho = (((altitude - stratosphere1)/(stratosphere2 - stratosphere1))*(0.00143 - 0.01322)) + 0.01322\n",
    "        \n",
    "    elif stratosphere2 < altitude <= stratopause :\n",
    "        rho = (((altitude - stratosphere2)/(stratopause - stratosphere2))*(0.00086 - 0.00143)) + 0.00143\n",
    "        \n",
    "    elif stratopause < altitude <= mesosphere :\n",
    "        rho = (((altitude - stratopause)/(mesosphere - stratopause))*(0.000064 - 0.00086)) + 0.00086\n",
    "        \n",
    "    elif mesosphere < altitude <= mesopause :\n",
    "        rho = (((altitude - mesosphere)/(mesopause - mesosphere))*(0 - 0.000064)) + 0.000064\n",
    "        \n",
    "    elif mesopause < altitude :\n",
    "        rho = 0\n",
    "\n",
    "    return rho\n",
    "\n",
    "def gravity(r, lat):\n",
    "    # computes the acceleration due to gravity towards the planetary center and north, including the J2,3 and 4 perturbations\n",
    "    \n",
    "    phi = np.pi / (2 - lat)\n",
    "    J2 = 1.08263e-3\n",
    "    J3 = 2.532152e-7\n",
    "    J4 = 1.6109876e-7\n",
    "\n",
    "    gc = mu * (1 - (1.5 * J2 * ((3*cos(phi)**2) - 1) * (r_earth/r)**2) - (2 * J3 * cos(phi) * ((5*cos(phi)**2) - 3) * (r_earth/r)**3) - ((5/8) * J4 * ((35*cos(phi)**4) - (30*cos(phi)**2) + 3) * (r_earth/r)**4)) / (r**2)\n",
    "    gnorth = 3 * mu * sin(phi) * cos(phi) * (r_earth/r) * (r_earth/r) * (J2 + (0.5*J3*((5*cos(phi)**2)-1)*(r_earth/r)/cos(phi) + ((5/6)*J4*((7*cos(phi)**2)-1)*(r_earth/r)**2)))/r**2\n",
    "\n",
    "    return [gc, gnorth]\n",
    "\n",
    "def period(a):\n",
    "    # computes the keplerian period of an orbit at a specific orbit radius - s\n",
    "    return 2 * np.pi * np.sqrt(a**3 / mu)\n",
    "\n",
    "def velocity(r, a):\n",
    "    # computes the orbital velocity at a specific orbit radius - km/s\n",
    "    return np.sqrt(mu * ((2/r) - (1/a)))\n",
    "\n",
    "def accel_drag(r, a):\n",
    "    # computes the deceleration due to atmospheric drag at a specific orbit radius - km/s²\n",
    "    return -BC * 0.5 * atmos(r) * velocity(r, a) ** 2\n",
    "\n",
    "def drdt(r, a):\n",
    "    # calculates the change in orbital radius due to atmospheric drag\n",
    "    return accel_drag(r, a) * period(a) / np.pi;"
   ]
  },
  {
   "cell_type": "markdown",
   "metadata": {},
   "source": [
    "Main Program"
   ]
  },
  {
   "cell_type": "code",
   "execution_count": 7,
   "metadata": {},
   "outputs": [
    {
     "data": {
      "image/png": "[encoded data removed]",
      "text/plain": [
       "<Figure size 432x288 with 1 Axes>"
      ]
     },
     "metadata": {
      "needs_background": "light"
     },
     "output_type": "display_data"
    },
    {
     "data": {
      "image/png": "[encoded data removed]",
      "text/plain": [
       "<Figure size 432x288 with 1 Axes>"
      ]
     },
     "metadata": {
      "needs_background": "light"
     },
     "output_type": "display_data"
    }
   ],
   "source": [
    "if __name__ == \"__main__\":\n",
    "    \n",
    "    #%%% Import libraries\n",
    "    import matplotlib.pyplot as plt\n",
    "    \n",
    "    #%%% Define functions\n",
    "    def plotter(dr, dt):\n",
    "        \n",
    "        # Define earth to plot\n",
    "        r = 1\n",
    "        theta = np.linspace(0, 2*np.pi, 1000)\n",
    "        x_e = r * cos(theta)\n",
    "        y_e = r * sin(theta)\n",
    "        \n",
    "        # calculating (x,y) coordinates of deorbit trajectory\n",
    "        timescale = np.linspace(0, dt * len(dr), len(dr)) / (3600 * 24)\n",
    "        x = np.zeros(len(dr))\n",
    "        y = np.zeros(len(dr))\n",
    "        nu = np.linspace(0, 2*np.pi, len(dr))\n",
    "        for i in range(len(dr)):\n",
    "            x[i] = (dr[i] / r_earth) * cos(nu[i])\n",
    "            y[i] = (dr[i] / r_earth) * sin(nu[i])\n",
    "        \n",
    "        # plot\n",
    "        fig = plt.figure()\n",
    "        \n",
    "        ax1 = fig.add_subplot()\n",
    "        ax1.set_title('Deorbit trajectory of spacecraft')\n",
    "        ax1.set_ylabel('y / km')\n",
    "        ax1.set_xlabel('x / km')\n",
    "        earth_plot, = plt.plot(x_e, y_e, label = 'Earth')\n",
    "        trajectory, = plt.plot(x, y, label = 'Trajectory')\n",
    "        ax1.legend(handles = [earth_plot, trajectory], loc = 'upper right')\n",
    "        plt.axis('square')\n",
    "        \n",
    "        # reformatting data for plotting\n",
    "        for i in range(len(dr)):\n",
    "            dr[i] = dr[i] - r_earth\n",
    "        dr[-1] = 0\n",
    "        \n",
    "        fig = plt.figure()\n",
    "        \n",
    "        ax2 = fig.add_subplot()\n",
    "        ax2.set_title('Altitude decay with respect to time')\n",
    "        ax2.set_ylabel('Altitude / km')\n",
    "        ax2.set_xlabel('Time / days')\n",
    "        plt.plot(timescale, dr)\n",
    "        \n",
    "        plt.show()\n",
    "        \n",
    "        return timescale\n",
    "    \n",
    "    #%%% Program\n",
    "    mu = G * M * 10 ** -9\n",
    "    dt = 3600   # timestep - hours\n",
    "    n = np.sqrt(mu / a**3)\n",
    "    \n",
    "    # initialise solver parameters\n",
    "    i = 0\n",
    "    dr = [a]\n",
    "    altitude = altitude0\n",
    "    \n",
    "    while altitude >= 0:\n",
    "        \n",
    "        # compute orbital period and mean motion\n",
    "        T = period(a)\n",
    "        n = 2 * np.pi / T\n",
    "        \n",
    "        # compute orbital radius\n",
    "        M = M0 + (n * dt * i)\n",
    "        E = keplers.solver(M, e)\n",
    "        r = a * (1 - (e * cos(E)))\n",
    "        \n",
    "        # compute orbit decay rate\n",
    "        decay_rate = drdt(r, a)\n",
    "        decay_alt = decay_rate * dt\n",
    "        \n",
    "        # update orbit SMA, altitude, radius and time step\n",
    "        a += decay_alt\n",
    "        altitude = r - r_earth\n",
    "        dr.append(r)\n",
    "        i += 1\n",
    "    \n",
    "    timescale = plotter(dr, dt)"
   ]
  }
 ],
 "metadata": {
  "kernelspec": {
   "display_name": "Python 3.9.12 ('GDP')",
   "language": "python",
   "name": "python3"
  },
  "language_info": {
   "codemirror_mode": {
    "name": "ipython",
    "version": 3
   },
   "file_extension": ".py",
   "mimetype": "text/x-python",
   "name": "python",
   "nbconvert_exporter": "python",
   "pygments_lexer": "ipython3",
   "version": "3.9.12"
  },
  "orig_nbformat": 4,
  "vscode": {
   "interpreter": {
    "hash": "986cd5e60ba7c43e46b64f97e600ff475d622c07c3e70d732ea31eda9d1719de"
   }
  }
 },
 "nbformat": 4,
 "nbformat_minor": 2
}
